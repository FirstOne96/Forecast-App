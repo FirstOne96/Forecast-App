{
 "cells": [
  {
   "cell_type": "markdown",
   "metadata": {},
   "source": [
    "# Recap - tutorial 1-3\n",
    "\n",
    "1. Operátory or/and/not/in\n",
    "2. Indexing and slicing\n",
    "3. Funkce `range` a generátory\n",
    "4. Seznamy\n",
    "5. Řetězce"
   ]
  },
  {
   "cell_type": "markdown",
   "metadata": {},
   "source": [
    "## 1. Opertátory `and`,  `or`, `not`"
   ]
  },
  {
   "cell_type": "markdown",
   "metadata": {},
   "source": [
    "#### Co je v Python \"False\"?"
   ]
  },
  {
   "cell_type": "code",
   "execution_count": 16,
   "metadata": {},
   "outputs": [
    {
     "name": "stdout",
     "output_type": "stream",
     "text": [
      "False\n",
      "False\n",
      "False\n",
      "False\n",
      "False\n",
      "False\n",
      "False\n",
      "False\n",
      "False\n",
      "False\n",
      "True\n"
     ]
    }
   ],
   "source": [
    "# Boolean False\n",
    "print( bool(False) )\n",
    "\n",
    "# 0 (int, float)\n",
    "print( bool(0) )\n",
    "print( bool(0.0) )\n",
    "print( bool(0j) )\n",
    "\n",
    "# None hodnota\n",
    "print( bool(None))\n",
    "\n",
    "# Prázdné sekvence a mapování\n",
    "## řetězec\n",
    "print( bool('') )\n",
    "## pole, tuple\n",
    "print( bool([]) )\n",
    "## tuple\n",
    "print( bool(()) )\n",
    "## slovník\n",
    "print( bool({}) )\n",
    "## množina\n",
    "print( bool(set()))\n",
    "\n",
    "# Instance tříd, které mají metody __bool__() nebo __len()__, které vrací 0 nebo False\n",
    "class A:\n",
    "    def __len__(self):\n",
    "        return 1\n",
    "\n",
    "print( bool(A()) )\n",
    "\n"
   ]
  },
  {
   "cell_type": "markdown",
   "metadata": {},
   "source": [
    "Vše ostatní je \"True\""
   ]
  },
  {
   "cell_type": "markdown",
   "metadata": {},
   "source": [
    "#### Vyhodnocování výrazů `and`, `or`, `not`"
   ]
  },
  {
   "cell_type": "code",
   "execution_count": 53,
   "metadata": {},
   "outputs": [
    {
     "name": "stdout",
     "output_type": "stream",
     "text": [
      "Second\n",
      "Second\n",
      "<__main__.A object at 0x7f04db5245c0>\n",
      "<__main__.A object at 0x7f04db5245c0>\n",
      "False\n",
      "False\n"
     ]
    }
   ],
   "source": [
    "first = A()\n",
    "second = 'Second'\n",
    "\n",
    "\n",
    "# and\n",
    "print(first and second)\n",
    "if not bool(first):\n",
    "    print(first)\n",
    "else:\n",
    "    print(second)\n",
    "    \n",
    "# or\n",
    "print(first or second)\n",
    "if bool(first):\n",
    "    print(first)\n",
    "else:\n",
    "    print(second)\n",
    "\n",
    "# not\n",
    "print(not first)\n",
    "print(not second)"
   ]
  },
  {
   "cell_type": "markdown",
   "metadata": {},
   "source": [
    "#### Priority (od nejmenší)\n",
    "\n",
    "1. or\n",
    "2. and \n",
    "3. not\n",
    "\n",
    "priority všech operátorů lze najít v dokumentaci https://docs.python.org/3/reference/expressions.html#operator-precedence"
   ]
  },
  {
   "cell_type": "code",
   "execution_count": 3,
   "metadata": {},
   "outputs": [
    {
     "name": "stdout",
     "output_type": "stream",
     "text": [
      "True\n",
      "1\n",
      "0\n",
      "1\n"
     ]
    }
   ],
   "source": [
    "# Co bude výsledkem následujících výrazů ?\n",
    "\n",
    "print( not 0 or 1 )\n",
    "\n",
    "print( not 0 and 1 )\n",
    "\n",
    "print( (1 or 0) and 0)\n",
    "\n",
    "print( 1 or 0 and 0)"
   ]
  },
  {
   "cell_type": "markdown",
   "metadata": {},
   "source": [
    "## 2. Indexace a slicing (výřezy)\n",
    "\n",
    "`[]`, `[::]`"
   ]
  },
  {
   "cell_type": "markdown",
   "metadata": {},
   "source": [
    "1. Indexace\n",
    "\n",
    "    * Syntax `[index]`\n",
    "    * Indexace od 0\n",
    "    * Lze indexovat pouze pomocí typu **int** (bool)\n",
    "    \n",
    "2. Slicing\n",
    "    * Syntax `[start:stop:step]`\n",
    "    * Jednotlivé argumenty lze vynechat (e.g. [:3], [::-1], [2:])\n",
    "    * Hodnota na indexu stop není ve výsledném výřezu.\n",
    "    * Mělká kopie $\\rightarrow$ pokud součást sekvence mutable objekt, nebude zkopírován."
   ]
  },
  {
   "cell_type": "code",
   "execution_count": 98,
   "metadata": {},
   "outputs": [
    {
     "name": "stdout",
     "output_type": "stream",
     "text": [
      "A\n",
      "hj\n",
      "[[1], 1]\n",
      "[[1, 42], 1]\n",
      "[[1, 42]]\n"
     ]
    }
   ],
   "source": [
    "seq = [1, 2, 3, 4, 5]\n",
    "seq = 'Ahoj světe'\n",
    "\n",
    "print(seq[0])\n",
    "\n",
    "print(seq[1:4:2])\n",
    "\n",
    "seq = [[1], 1]\n",
    "print(seq)\n",
    "\n",
    "seq2 = seq[0:1]\n",
    "seq2[0].append(42)\n",
    "print(seq)\n",
    "print(seq2)"
   ]
  },
  {
   "cell_type": "markdown",
   "metadata": {},
   "source": [
    "## 3. Funkce `range()` a generátory\n",
    "\n",
    "Co jsou iterátory, generátory a podobné objekty bude blíže vysvětleno na přednášce a dalších cvičení. \n",
    "\n",
    "**Prozatím**: Generátor je funkce, která umí postupně dávat k dispozici hodnoty pomocí klíčového slova `yield`. Poté, co si hodnotu vyžádáme, kontext funkce je uložen, dokud si nevyžádáme další hodnotu. Generování končí, pokud generátorová funkce vrátí return.\n",
    "\n",
    "**Příklad:**"
   ]
  },
  {
   "cell_type": "code",
   "execution_count": 48,
   "metadata": {},
   "outputs": [
    {
     "name": "stdout",
     "output_type": "stream",
     "text": [
      "<generator object my_range at 0x7f04db5d6b10>\n",
      "0\n",
      "2\n",
      "4\n",
      "6\n",
      "8\n"
     ]
    },
    {
     "ename": "StopIteration",
     "evalue": "",
     "output_type": "error",
     "traceback": [
      "\u001b[0;31m---------------------------------------------------------------------------\u001b[0m",
      "\u001b[0;31mStopIteration\u001b[0m                             Traceback (most recent call last)",
      "\u001b[0;32m<ipython-input-48-81157427e532>\u001b[0m in \u001b[0;36m<module>\u001b[0;34m\u001b[0m\n\u001b[1;32m     18\u001b[0m \u001b[0;34m\u001b[0m\u001b[0m\n\u001b[1;32m     19\u001b[0m \u001b[0;31m# konec generátoru\u001b[0m\u001b[0;34m\u001b[0m\u001b[0;34m\u001b[0m\u001b[0;34m\u001b[0m\u001b[0m\n\u001b[0;32m---> 20\u001b[0;31m \u001b[0mprint\u001b[0m\u001b[0;34m(\u001b[0m\u001b[0mnext\u001b[0m\u001b[0;34m(\u001b[0m\u001b[0mgen\u001b[0m\u001b[0;34m)\u001b[0m\u001b[0;34m)\u001b[0m\u001b[0;34m\u001b[0m\u001b[0;34m\u001b[0m\u001b[0m\n\u001b[0m",
      "\u001b[0;31mStopIteration\u001b[0m: "
     ]
    }
   ],
   "source": [
    "# generátorová funkce\n",
    "def my_range(start, stop, step=1):\n",
    "    i = start\n",
    "    while i < stop:\n",
    "        yield i\n",
    "        i += step\n",
    "    return \n",
    "\n",
    "# vytvoření generátoru\n",
    "gen = my_range(0, 10, 2)\n",
    "print(gen)\n",
    "\n",
    "# hodnoty jsou přístupné funkcí next\n",
    "print(next(gen))\n",
    "print(next(gen))\n",
    "\n",
    "# ve for smyčce je next voláno implicitně\n",
    "for i in gen:\n",
    "    print(i)\n",
    "    \n",
    "# konec generátoru\n",
    "print(next(gen))"
   ]
  },
  {
   "cell_type": "code",
   "execution_count": 94,
   "metadata": {},
   "outputs": [
    {
     "name": "stdout",
     "output_type": "stream",
     "text": [
      "[0, 2, 4, 6, 8]\n",
      "range(0, 10, 2)\n",
      "5\n"
     ]
    }
   ],
   "source": [
    "# převedení generátoru na list\n",
    "print(list(my_range(0, 10, 2)))\n",
    "\n",
    "# build-in range\n",
    "rng = range(0, 10, 2)\n",
    "print(rng)\n",
    "print(len(rng))"
   ]
  },
  {
   "cell_type": "code",
   "execution_count": 6,
   "metadata": {},
   "outputs": [
    {
     "data": {
      "text/plain": [
       "range"
      ]
     },
     "execution_count": 6,
     "metadata": {},
     "output_type": "execute_result"
    }
   ],
   "source": [
    "type(range(10))"
   ]
  },
  {
   "cell_type": "markdown",
   "metadata": {},
   "source": [
    "## 4. Sekvence\n"
   ]
  },
  {
   "cell_type": "markdown",
   "metadata": {},
   "source": [
    "### Seznam (list)\n",
    "\n",
    "* Heterogenní sekvence objektů\n",
    "* Mutable (měnitelné)"
   ]
  },
  {
   "cell_type": "markdown",
   "metadata": {},
   "source": [
    "#### Vytváření"
   ]
  },
  {
   "cell_type": "code",
   "execution_count": 74,
   "metadata": {},
   "outputs": [
    {
     "name": "stdout",
     "output_type": "stream",
     "text": [
      "[1, 'abc', [3, 4]]\n",
      "['a', 'b', 'c', 'd']\n",
      "[1, 2, 3]\n"
     ]
    }
   ],
   "source": [
    "print( [1, 'abc', [3, 4]] )\n",
    "\n",
    "print( list('abcd') )\n",
    "\n",
    "print( list({1, 2, 2, 3}) )"
   ]
  },
  {
   "cell_type": "markdown",
   "metadata": {},
   "source": [
    "#### Přístup k prvkům"
   ]
  },
  {
   "cell_type": "code",
   "execution_count": 75,
   "metadata": {},
   "outputs": [
    {
     "name": "stdout",
     "output_type": "stream",
     "text": [
      "a\n",
      "['d']\n",
      "a\n",
      "b\n",
      "c\n",
      "d\n",
      "e\n",
      "0 a\n",
      "1 b\n",
      "2 c\n",
      "3 d\n",
      "4 e\n"
     ]
    }
   ],
   "source": [
    "l = ['a', 'b', 'c', 'd', 'e']\n",
    "\n",
    "# indexing a slicing\n",
    "print(l[0])\n",
    "print(l[3:4])\n",
    "\n",
    "# iterace pomocí for loop\n",
    "for x in l:\n",
    "    print(x)\n",
    "    \n",
    "# zabudovaná funkce enumerate\n",
    "for i, x in enumerate(l):\n",
    "    print(i, x)"
   ]
  },
  {
   "cell_type": "markdown",
   "metadata": {},
   "source": [
    "#### Zabudované funkce a přetížení operátorů"
   ]
  },
  {
   "cell_type": "code",
   "execution_count": 97,
   "metadata": {},
   "outputs": [
    {
     "name": "stdout",
     "output_type": "stream",
     "text": [
      "1\n",
      "[1, [3, 4], 42, 4, 7]\n",
      "[1, [3, 4], 42, 1, [3, 4], 42]\n",
      "[1, [3, 4], 42, 1, [3, 4], 42]\n",
      "[1, ['shallow copy', 4], 42, 1, ['shallow copy', 4], 42]\n"
     ]
    }
   ],
   "source": [
    "l = [1, 'abc', [3, 4]]\n",
    "\n",
    "# funkce\n",
    "\n",
    "## přidej prvek\n",
    "l.append(42)\n",
    "## index prvku\n",
    "print(l.index('abc'))\n",
    "## odstraň prvek\n",
    "l.remove('abc')\n",
    "\n",
    "# operátory\n",
    "## + je přetížen na zřetězení\n",
    "print(l + [4, 7])\n",
    "## * opakování listu\n",
    "print(l * 2)\n",
    "\n",
    "# ! mělká kopie\n",
    "l2 = l + l # l * 2\n",
    "print(l2)\n",
    "l2[1][0] = 'shallow copy'\n",
    "print(l2)\n",
    "\n",
    "#..."
   ]
  },
  {
   "cell_type": "markdown",
   "metadata": {},
   "source": [
    "#### List comrehension\n",
    "\n",
    "= jednořádkové vytváření seznamu pomocí for loop."
   ]
  },
  {
   "cell_type": "code",
   "execution_count": 77,
   "metadata": {},
   "outputs": [
    {
     "name": "stdout",
     "output_type": "stream",
     "text": [
      "[0, 2, 4, 6, 8]\n"
     ]
    }
   ],
   "source": [
    "print( [x for x in range(0, 10) if x % 2 == 0] )"
   ]
  },
  {
   "cell_type": "markdown",
   "metadata": {},
   "source": [
    "### Řetězec\n",
    "\n",
    "* Sekvence znaků\n",
    "* Immutable - pokud chceme změnit, musíme vytvořit nový objekt.\n",
    "* Zabudované funkce, přetížené operátory"
   ]
  },
  {
   "cell_type": "markdown",
   "metadata": {},
   "source": [
    "#### Vytváření"
   ]
  },
  {
   "cell_type": "code",
   "execution_count": 8,
   "metadata": {},
   "outputs": [
    {
     "name": "stdout",
     "output_type": "stream",
     "text": [
      "abc efg\n",
      "abc dfg\n",
      "Příliš dlouhý řetězec\n"
     ]
    }
   ],
   "source": [
    "print('abc efg')\n",
    "\n",
    "print(\"abc dfg\")\n",
    "\n",
    "print(\"\"\"Příliš dlouhý \\\n",
    "řetězec\"\"\")"
   ]
  },
  {
   "cell_type": "markdown",
   "metadata": {},
   "source": [
    "#### Formátování\n",
    "\n",
    "\n",
    "_F-string_\n",
    "\n",
    "Aka \"Yet another string formatting\". Pouze pro Python 3.6+.\n",
    "\n",
    "Nicméně toto řešení je oproti předchozím poměrně elegantní a nabízí široké možnosti, jak definovat \"dynamické\" řetězce."
   ]
  },
  {
   "cell_type": "code",
   "execution_count": 88,
   "metadata": {},
   "outputs": [
    {
     "name": "stdout",
     "output_type": "stream",
     "text": [
      "Vložená hodnota 42\n",
      "U f-stringu je to ještě jednodušší 42\n",
      "Formtovací řetězce např. 3.33\n"
     ]
    }
   ],
   "source": [
    "# metoda format\n",
    "print('Vložená hodnota {}'.format(42))\n",
    "# F-string\n",
    "print(f'U f-stringu je to ještě jednodušší {42}')\n",
    "# formátování\n",
    "print(f'Formtovací řetězce např. {3.33333333:.2f}')"
   ]
  },
  {
   "cell_type": "markdown",
   "metadata": {},
   "source": [
    "#### Zabudované funkce a přetížené operátory\n",
    "\n",
    "Funkce a přetížení operátorů funguje podobně jako v seznamech. Hlavní rozdíl je ten, že string samotný nikdy nemůžeme měnit, vždy tedy vytváříme nový objekt.\n",
    "\n"
   ]
  },
  {
   "cell_type": "code",
   "execution_count": 90,
   "metadata": {},
   "outputs": [
    {
     "name": "stdout",
     "output_type": "stream",
     "text": [
      "abcdefghij\n",
      "abcdefgabcdefg\n",
      "a b c d e f g \n",
      "0 a\n",
      "1 b\n",
      "2 c\n",
      "3 d\n",
      "4 e\n",
      "5 f\n",
      "6 g\n"
     ]
    },
    {
     "ename": "AttributeError",
     "evalue": "'str' object has no attribute 'append'",
     "output_type": "error",
     "traceback": [
      "\u001b[0;31m---------------------------------------------------------------------------\u001b[0m",
      "\u001b[0;31mAttributeError\u001b[0m                            Traceback (most recent call last)",
      "\u001b[0;32m<ipython-input-90-c2429fa81276>\u001b[0m in \u001b[0;36m<module>\u001b[0;34m\u001b[0m\n\u001b[1;32m     13\u001b[0m \u001b[0;34m\u001b[0m\u001b[0m\n\u001b[1;32m     14\u001b[0m \u001b[0;31m# !\u001b[0m\u001b[0;34m\u001b[0m\u001b[0;34m\u001b[0m\u001b[0;34m\u001b[0m\u001b[0m\n\u001b[0;32m---> 15\u001b[0;31m \u001b[0mretezec\u001b[0m\u001b[0;34m.\u001b[0m\u001b[0mappend\u001b[0m\u001b[0;34m(\u001b[0m\u001b[0;34m'h'\u001b[0m\u001b[0;34m)\u001b[0m\u001b[0;34m\u001b[0m\u001b[0;34m\u001b[0m\u001b[0m\n\u001b[0m",
      "\u001b[0;31mAttributeError\u001b[0m: 'str' object has no attribute 'append'"
     ]
    }
   ],
   "source": [
    "retezec = 'abcdefg' \n",
    "print(retezec + 'hij')\n",
    "\n",
    "print(retezec * 2)\n",
    "\n",
    "for ch in retezec:\n",
    "    print(ch, end=' ')\n",
    "   \n",
    "print()\n",
    "\n",
    "for i, ch in enumerate(retezec):\n",
    "    print(i, ch)\n",
    "    \n",
    "# ! immutable\n",
    "retezec.append('h')"
   ]
  },
  {
   "cell_type": "markdown",
   "metadata": {},
   "source": [
    "Kromě toho existuje velké množství funkcí specifických pro stringy."
   ]
  },
  {
   "cell_type": "code",
   "execution_count": 92,
   "metadata": {},
   "outputs": [
    {
     "name": "stdout",
     "output_type": "stream",
     "text": [
      "ABCDEFG\n"
     ]
    }
   ],
   "source": [
    "print(retezec.upper())\n",
    "\n",
    "## další ?"
   ]
  }
 ],
 "metadata": {
  "kernelspec": {
   "display_name": "Python 3",
   "language": "python",
   "name": "python3"
  },
  "language_info": {
   "codemirror_mode": {
    "name": "ipython",
    "version": 3
   },
   "file_extension": ".py",
   "mimetype": "text/x-python",
   "name": "python",
   "nbconvert_exporter": "python",
   "pygments_lexer": "ipython3",
   "version": "3.7.1"
  }
 },
 "nbformat": 4,
 "nbformat_minor": 2
}
