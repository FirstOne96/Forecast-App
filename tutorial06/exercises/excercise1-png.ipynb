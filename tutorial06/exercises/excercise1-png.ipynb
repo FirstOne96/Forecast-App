{
 "cells": [
  {
   "cell_type": "markdown",
   "metadata": {},
   "source": [
    "# Procvičování - PNG"
   ]
  },
  {
   "cell_type": "markdown",
   "metadata": {},
   "source": [
    "### 1. Vyberte si nepříliš velký (čím menší, tím lepší) obrázek ve formátu PNG a prostudujte jeho strukturu z hlediska binárních dat:\n",
    "\n",
    "Použijte např. obrázek `sachovnice.png`."
   ]
  },
  {
   "cell_type": "code",
   "execution_count": 1,
   "metadata": {},
   "outputs": [
    {
     "data": {
      "image/png": "[encoded data removed]",
      "text/plain": [
       "<PIL.Image.Image image mode=RGB size=30x30 at 0x7FC3483D54E0>"
      ]
     },
     "execution_count": 1,
     "metadata": {},
     "output_type": "execute_result"
    }
   ],
   "source": [
    "from PIL import Image\n",
    "Image.open('sachovnice.png').resize((30, 30))"
   ]
  },
  {
   "cell_type": "markdown",
   "metadata": {},
   "source": [
    "#### a. Načtěte obrázek a uložte jeho kopii pod jiným názvem. Vyzkoušejte, že i kopie se stále chová jako obrázek ;)\n"
   ]
  },
  {
   "cell_type": "code",
   "execution_count": 2,
   "metadata": {
    "tags": [
     "solution"
    ]
   },
   "outputs": [
    {
     "data": {
      "image/png": "[encoded data removed]",
      "text/plain": [
       "<PIL.Image.Image image mode=RGB size=30x30 at 0x7FC34842DC88>"
      ]
     },
     "execution_count": 2,
     "metadata": {},
     "output_type": "execute_result"
    }
   ],
   "source": [
    "# TODO: Implement your solution."
   ]
  },
  {
   "cell_type": "markdown",
   "metadata": {},
   "source": [
    "#### b. Načtěte obrázek do proměnné a tu projeďte smyčkou for-in. Každý prvek si nechte vytisknout.\n"
   ]
  },
  {
   "cell_type": "code",
   "execution_count": 3,
   "metadata": {
    "tags": [
     "solution"
    ]
   },
   "outputs": [
    {
     "name": "stdout",
     "output_type": "stream",
     "text": [
      "137 80 78 71 13 10 26 10 0 0 0 13 73 72 68 82 0 0 0 3 0 0 0 3 8 2 0 0 0 217 74 34 232 0 0 0 28 73 68 65 84 120 156 37 195 177 13 0 0 12 195 32 62 207 233 238 80 36 132 95 109 131 146 212 1 180 210 13 114 166 124 255 117 0 0 0 0 73 69 78 68 174 66 96 130 "
     ]
    }
   ],
   "source": [
    "# TODO: Implement your solution."
   ]
  },
  {
   "cell_type": "markdown",
   "metadata": {},
   "source": [
    "#### c. Načtěte obrázek bajt po bajtu a každý bajt si postupně vypište na výstup. Porovnejte s výstupem předchozího programu.\n"
   ]
  },
  {
   "cell_type": "code",
   "execution_count": 4,
   "metadata": {
    "tags": [
     "solution"
    ]
   },
   "outputs": [
    {
     "name": "stdout",
     "output_type": "stream",
     "text": [
      "b'\\x89' b'P' b'N' b'G' b'\\r' b'\\n' b'\\x1a' b'\\n' b'\\x00' b'\\x00' b'\\x00' b'\\r' b'I' b'H' b'D' b'R' b'\\x00' b'\\x00' b'\\x00' b'\\x03' b'\\x00' b'\\x00' b'\\x00' b'\\x03' b'\\x08' b'\\x02' b'\\x00' b'\\x00' b'\\x00' b'\\xd9' b'J' b'\"' b'\\xe8' b'\\x00' b'\\x00' b'\\x00' b'\\x1c' b'I' b'D' b'A' b'T' b'x' b'\\x9c' b'%' b'\\xc3' b'\\xb1' b'\\r' b'\\x00' b'\\x00' b'\\x0c' b'\\xc3' b' ' b'>' b'\\xcf' b'\\xe9' b'\\xee' b'P' b'$' b'\\x84' b'_' b'm' b'\\x83' b'\\x92' b'\\xd4' b'\\x01' b'\\xb4' b'\\xd2' b'\\r' b'r' b'\\xa6' b'|' b'\\xff' b'u' b'\\x00' b'\\x00' b'\\x00' b'\\x00' b'I' b'E' b'N' b'D' b'\\xae' b'B' b'`' b'\\x82' "
     ]
    }
   ],
   "source": [
    "# TODO: Implement your solution."
   ]
  },
  {
   "cell_type": "markdown",
   "metadata": {},
   "source": [
    "### 2. Nyní se na stejný (malý) PNG-obázek podívejte z hlediska jeho struktury formátu, tj.:\n",
    "\n",
    "* Ověřte, že obrázek začíná příslušnou hlavičkou PNG-souboru, tj. sekvencí bajtů 89 50 4E 47 0D 0A 1A 0A.\n",
    "\n",
    "* Rozložte načtená binární data po hlavičce na sekvenci chunků. Vypište postupně typy všech v obrázku obsažených chunků. U každého chunku můžete ověřit integritu dat pomocí zlib.crc32(data) .\n",
    "\n",
    "* Rozparsujte chunk IHDR a získejte z něj všechny v něm schované údaje (šířka a výška obrázku atd.).\n",
    "\n",
    "* Složte data z chunků IDAT dohromady a rozkomprimujte je pomocí metody zlib.decompress(str) .\n",
    "\n",
    "* Rozložte rozkomprimovaná data na odpovídající řádky (scanlines) a odfiltrujte takto získaná data obrázku na jeho skutečné RGB-hodnoty pro každý pixel.\n",
    "\n"
   ]
  },
  {
   "cell_type": "code",
   "execution_count": 5,
   "metadata": {},
   "outputs": [
    {
     "name": "stdout",
     "output_type": "stream",
     "text": [
      "\r\n",
      "\r\n",
      "\r\n",
      "\r\n",
      "\r\n",
      "\r\n",
      "\r\n",
      "\r\n",
      "\r\n",
      "\r\n",
      "\r\n",
      "\r\n",
      "\r\n",
      "\r\n",
      "\r\n",
      "\r\n",
      "\r\n",
      "\r\n",
      "\r\n",
      "\r\n",
      "\r\n",
      "\r\n",
      "\r\n",
      "\r\n",
      "\r\n",
      "\r\n",
      "\r\n",
      "\r\n",
      "\r\n",
      "\r\n",
      "\r\n",
      "\r\n",
      "\r\n",
      "\r\n",
      "\r\n",
      "\r\n",
      "\r\n",
      "\r\n",
      "\r\n",
      "\r\n",
      "\r\n",
      "\r\n",
      "\r\n",
      "\r\n",
      "\r\n",
      "\r\n",
      "\r\n",
      "\r\n",
      "\r\n",
      "\r\n"
     ]
    }
   ],
   "source": [
    "!cat sachovnice.log"
   ]
  },
  {
   "cell_type": "code",
   "execution_count": 6,
   "metadata": {
    "tags": [
     "solution"
    ]
   },
   "outputs": [],
   "source": [
    "# TODO: Implement your solution."
   ]
  },
  {
   "cell_type": "markdown",
   "metadata": {},
   "source": [
    "### 3. Ověřte svoji práci z předchozího úkolu tím, že získané RGB-hodnoty zapíšete jako PPM-obrázek, např. v variantě P6, a vizuálně porovnáte takto získaný PPM-obrázek s původním PNG-obrázkem."
   ]
  },
  {
   "cell_type": "code",
   "execution_count": 7,
   "metadata": {
    "tags": [
     "solution"
    ]
   },
   "outputs": [
    {
     "data": {
      "image/png": "[encoded data removed]",
      "text/plain": [
       "<PIL.Image.Image image mode=RGB size=30x30 at 0x7FC348195160>"
      ]
     },
     "execution_count": 7,
     "metadata": {},
     "output_type": "execute_result"
    }
   ],
   "source": [
    "# TODO: Implement your solution."
   ]
  }
 ],
 "metadata": {
  "kernelspec": {
   "display_name": "Python 3",
   "language": "python",
   "name": "python3"
  },
  "language_info": {
   "codemirror_mode": {
    "name": "ipython",
    "version": 3
   },
   "file_extension": ".py",
   "mimetype": "text/x-python",
   "name": "python",
   "nbconvert_exporter": "python",
   "pygments_lexer": "ipython3",
   "version": "3.7.2"
  }
 },
 "nbformat": 4,
 "nbformat_minor": 2
}
