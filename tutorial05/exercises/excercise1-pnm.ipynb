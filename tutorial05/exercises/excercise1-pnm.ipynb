{
 "cells": [
  {
   "cell_type": "markdown",
   "metadata": {},
   "source": [
    "# Procvičování grafických formátů PNM"
   ]
  },
  {
   "cell_type": "markdown",
   "metadata": {},
   "source": [
    "**Nezapomeňte si aktualizovat váš conda enviroment pomocí `conda env update`, aby vám nechyběla knihovna PIL!**\n",
    "\n",
    "Jupyter notebook bohužel neumí zobrazit ASCII varianty PNM obrázků, proto budeme pracovat pouze s variantami P4, P5 a P6.\n",
    "\n",
    "Pro ukládání obrázku můžete použít buffer `io.BytesIO()`, do kterého lze postupně zapisovat bajty obrázku. Pro zobrazení obrázku v notebooku použijte `Image.open()` na konci buňky.\n",
    "\n",
    "Příklad použití:\n",
    "\n",
    "```python\n",
    "f = io.BytesIO()\n",
    "f.write(b'P5\\n')\n",
    "# write header and image pixels...\n",
    "Image.open(f)\n",
    "```"
   ]
  },
  {
   "cell_type": "code",
   "execution_count": 1,
   "metadata": {},
   "outputs": [],
   "source": [
    "from PIL import Image\n",
    "import io\n",
    "import random"
   ]
  },
  {
   "cell_type": "markdown",
   "metadata": {},
   "source": [
    "###  1. Vytvořte programem vhodně velký obrázek „duhy“ ve formátu PPM (varianta P6).\n",
    "\n",
    "Úkolem je tedy nagenerovat obdélník, kde postupně každý následující sloupeček (nebo řádek) bude postupně jinak barevný než předchozí. \n",
    "\n",
    "**Hint:** Možných řešení je samozřejmě hromada, kupříkladu originál ukázkového obrázku byl vygenerován prostým přechodem od červené (R) přes žlutou do zelené (G) a následně přes světle modrou do modré (B) a nakonec z ní ještě do fialové. Další dobrá volba je třeba nagenerovat obrázek jako HLS a provést konverzi do RGB."
   ]
  },
  {
   "cell_type": "code",
   "execution_count": 2,
   "metadata": {
    "tags": [
     "solution"
    ]
   },
   "outputs": [
    {
     "data": {
      "image/png": "[encoded data removed]",
      "text/plain": [
       "<PIL.PpmImagePlugin.PpmImageFile image mode=RGB size=384x100 at 0x7F0D68216F28>"
      ]
     },
     "execution_count": 2,
     "metadata": {},
     "output_type": "execute_result"
    }
   ],
   "source": [
    "# TODO: Implement your solution."
   ]
  },
  {
   "cell_type": "markdown",
   "metadata": {},
   "source": [
    "### 2. Upravte předchozí řešení duhy tak, aby každý barevný sloupeček (či řádek, máte-li duhu otočenou) mizel do ztracena (tedy černa). "
   ]
  },
  {
   "cell_type": "code",
   "execution_count": 3,
   "metadata": {
    "tags": [
     "solution"
    ]
   },
   "outputs": [
    {
     "data": {
      "image/png": "[encoded data removed]",
      "text/plain": [
       "<PIL.PpmImagePlugin.PpmImageFile image mode=RGB size=384x100 at 0x7F0D68216F60>"
      ]
     },
     "execution_count": 3,
     "metadata": {},
     "output_type": "execute_result"
    }
   ],
   "source": [
    "# TODO: Implement your solution."
   ]
  },
  {
   "cell_type": "markdown",
   "metadata": {},
   "source": [
    "### 3. Když už umíte duhu, vykreslete ji nějakým způsobem do šachovnice, tedy čtverce s barvami rozdělenými postupně po řádcích.\n",
    "\n",
    "**Hint:**\n",
    "V úloze jde asi především o to, jak velká ta šachovnice bude. (Já jsem trošku podváděl, aby mi vyšel čtverec – posledních 21 fialových pixelů má stejnou barvu.)"
   ]
  },
  {
   "cell_type": "code",
   "execution_count": 4,
   "metadata": {
    "tags": [
     "solution"
    ]
   },
   "outputs": [
    {
     "data": {
      "image/png": "[encoded data removed]",
      "text/plain": [
       "<PIL.Image.Image image mode=RGB size=160x160 at 0x7F0D682161D0>"
      ]
     },
     "execution_count": 4,
     "metadata": {},
     "output_type": "execute_result"
    }
   ],
   "source": [
    "# TODO: Implement your solution."
   ]
  }
 ],
 "metadata": {
  "kernelspec": {
   "display_name": "Python 3",
   "language": "python",
   "name": "python3"
  },
  "language_info": {
   "codemirror_mode": {
    "name": "ipython",
    "version": 3
   },
   "file_extension": ".py",
   "mimetype": "text/x-python",
   "name": "python",
   "nbconvert_exporter": "python",
   "pygments_lexer": "ipython3",
   "version": "3.7.1"
  }
 },
 "nbformat": 4,
 "nbformat_minor": 2
}
