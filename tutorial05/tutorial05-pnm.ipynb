{
 "cells": [
  {
   "cell_type": "markdown",
   "metadata": {},
   "source": [
    "# Cvičení 5 - formáty PNM"
   ]
  },
  {
   "cell_type": "markdown",
   "metadata": {},
   "source": [
    "**Nezapomeňte si aktualizovat váš conda enviroment pomocí `conda env update`, aby vám nechyběla knihovna PIL!**\n",
    "\n",
    "Jupyter notebook bohužel neumí zobrazit ASCII varianty PNM obrázků, proto budeme pracovat pouze s variantami P4, P5 a P6.\n",
    "\n",
    "Pro ukládání obrázku můžete použít buffer `io.BytesIO()`, do kterého lze postupně zapisovat bajty obrázku. Pro zobrazení obrázku v notebooku použijte `Image.open()` na konci buňky.\n",
    "\n",
    "Příklad použití:\n",
    "\n",
    "```python\n",
    "f = io.BytesIO()\n",
    "f.write(b'P5\\n')\n",
    "# write header and image pixels...\n",
    "Image.open(f)\n",
    "```"
   ]
  },
  {
   "cell_type": "code",
   "execution_count": 90,
   "metadata": {},
   "outputs": [],
   "source": [
    "from PIL import Image\n",
    "import io\n",
    "import random"
   ]
  },
  {
   "cell_type": "markdown",
   "metadata": {},
   "source": [
    "### 1. Vytvořte programem obrázek 64x64 šachovnice ve formátu PGM (varianta P5 - binární, stupně šedi), tj. střídejte černá a bílá pole.\n",
    "\n",
    "Použijte osmibitovou barevnou hloubku pro reprezentaci odstínů šedi. Jiná není v Jupyter notebooku podporována.\n",
    "\n",
    "Černá políčka budou mít hodnotu bajtu 0 a bílá 255.\n",
    "\n",
    "**Hint:** Úloha se dá řešit buď zápisem binárním (řešení 1) nebo zápisem textovým (řešení 2). Řešení 1 vyžaduje znalost práce s binárními dat (tedy `b''`, `bytes()`, `bytearray()`), u řešení 2 si zase musíte dávat velký pozor, abyste zapsali skutečně jen to, co máte (čili na každý poslaný znak se musí zapsat skutečně pouze jeden bajt; primárně to znamená vybrat vhodné jednobajtové kódování a sekundárně pohlídat si platformně nezávislé zapisování `\\n`, pokud ho budete používat jako oddělovač)."
   ]
  },
  {
   "cell_type": "code",
   "execution_count": 85,
   "metadata": {
    "tags": [
     "solution"
    ]
   },
   "outputs": [
    {
     "data": {
      "image/png": "[encoded data removed]",
      "text/plain": [
       "<PIL.PpmImagePlugin.PpmImageFile image mode=L size=64x64 at 0x7FCD8B52D0B8>"
      ]
     },
     "execution_count": 85,
     "metadata": {},
     "output_type": "execute_result"
    }
   ],
   "source": [
    "# TODO: Implement your solution."
   ]
  },
  {
   "cell_type": "markdown",
   "metadata": {},
   "source": [
    "### 2. Zopakujte si znovu první úlohu, ale barvy políček generujte náhodně např. pomocí funkce random.randint(SPODNÍ_MEZ, HORNÍ_MEZ). "
   ]
  },
  {
   "cell_type": "code",
   "execution_count": 89,
   "metadata": {
    "tags": [
     "solution"
    ]
   },
   "outputs": [
    {
     "data": {
      "image/png": "[encoded data removed]",
      "text/plain": [
       "<PIL.PpmImagePlugin.PpmImageFile image mode=L size=64x64 at 0x7FCD8B514B00>"
      ]
     },
     "execution_count": 89,
     "metadata": {},
     "output_type": "execute_result"
    }
   ],
   "source": [
    "# TODO: Implement your solution."
   ]
  },
  {
   "cell_type": "markdown",
   "metadata": {},
   "source": [
    "### 3. Ještě jednou si zopakujte první úlohu, ale tentokrát v RGB-formátu PPM ve variantě P6.\n",
    "\n",
    "Přitom:\n",
    "\n",
    "* Barvy políček generujte zcela náhodně.\n",
    "* Barvy políček generujte sice náhodně, ale všechny v odstínu té samé barvy.\n",
    "\n",
    "**Hint:** Pro odstíny jedné barvy jeden z barvových kanálů náhodně měňte a pro zbývající dva vyberte vhodné pevné hodnoty."
   ]
  },
  {
   "cell_type": "code",
   "execution_count": 91,
   "metadata": {
    "tags": [
     "solution"
    ]
   },
   "outputs": [
    {
     "data": {
      "image/png": "[encoded data removed]",
      "text/plain": [
       "<PIL.PpmImagePlugin.PpmImageFile image mode=RGB size=64x64 at 0x7FCD8B5698D0>"
      ]
     },
     "execution_count": 91,
     "metadata": {},
     "output_type": "execute_result"
    }
   ],
   "source": [
    "# TODO: Implement your solution."
   ]
  },
  {
   "cell_type": "code",
   "execution_count": 99,
   "metadata": {
    "tags": [
     "solution"
    ]
   },
   "outputs": [
    {
     "data": {
      "image/png": "[encoded data removed]",
      "text/plain": [
       "<PIL.PpmImagePlugin.PpmImageFile image mode=RGB size=64x64 at 0x7FCD8B514AC8>"
      ]
     },
     "execution_count": 99,
     "metadata": {},
     "output_type": "execute_result"
    }
   ],
   "source": [
    "# TODO: Implement your solution."
   ]
  },
  {
   "cell_type": "markdown",
   "metadata": {},
   "source": [
    "### 4. Vytvořte programem vhodně velký obrázek jednobarevné „duhy“ ve vybrané barvě ve formátu PPM (varianta P6 - binární RGB).\n",
    "\n",
    "Úkolem je tedy nagenerovat čtverec, kde postupně každý následující sloupeček (nebo řádek) bude o něco světlejší než předchozí.\n",
    "\n",
    "**Hint:** Nejjednodušší je  udělat obrázek o rozměrech 256x256 pixelů a měnit hodnotu pouze jedné barvy."
   ]
  },
  {
   "cell_type": "code",
   "execution_count": 100,
   "metadata": {
    "tags": [
     "solution"
    ]
   },
   "outputs": [
    {
     "data": {
      "image/png": "[encoded data removed]",
      "text/plain": [
       "<PIL.PpmImagePlugin.PpmImageFile image mode=RGB size=256x256 at 0x7FCD8B449BE0>"
      ]
     },
     "execution_count": 100,
     "metadata": {},
     "output_type": "execute_result"
    }
   ],
   "source": [
    "# TODO: Implement your solution."
   ]
  },
  {
   "cell_type": "markdown",
   "metadata": {},
   "source": [
    "### 5. Zkuste nagenerovat dvě duhy ve stejné barvě přes sebe – jednu horizontálně, druhou vertikálně.\n",
    "\n",
    "**Hint:** Jelikož asi budete v tomto případě výsledný obrázek spíše skládat pixel po pixelu (a ne po řádcích jako předchozích příkladech), je rychlejší si data uložit bokem do vhodné datové struktury a teprve po jejím naplnění ji celou najednou zapsat na výstup."
   ]
  },
  {
   "cell_type": "code",
   "execution_count": 101,
   "metadata": {
    "tags": [
     "solution"
    ]
   },
   "outputs": [
    {
     "data": {
      "image/png": "[encoded data removed]",
      "text/plain": [
       "<PIL.PpmImagePlugin.PpmImageFile image mode=RGB size=128x128 at 0x7FCD8B4472E8>"
      ]
     },
     "execution_count": 101,
     "metadata": {},
     "output_type": "execute_result"
    }
   ],
   "source": [
    "# TODO: Implement your solution."
   ]
  },
  {
   "cell_type": "markdown",
   "metadata": {},
   "source": [
    "### 6. Zopakujte si předchozí úlohu s dvěma duhami ve dvou směrech, ale tentokrát zkuste smíchat dohromady dvě různé barvy.\n"
   ]
  },
  {
   "cell_type": "code",
   "execution_count": 103,
   "metadata": {
    "tags": [
     "solution"
    ]
   },
   "outputs": [
    {
     "data": {
      "image/png": "[encoded data removed]",
      "text/plain": [
       "<PIL.PpmImagePlugin.PpmImageFile image mode=RGB size=256x256 at 0x7FCD8B514F28>"
      ]
     },
     "execution_count": 103,
     "metadata": {},
     "output_type": "execute_result"
    }
   ],
   "source": [
    "# TODO: Implement your solution."
   ]
  }
 ],
 "metadata": {
  "kernelspec": {
   "display_name": "Python 3",
   "language": "python",
   "name": "python3"
  },
  "language_info": {
   "codemirror_mode": {
    "name": "ipython",
    "version": 3
   },
   "file_extension": ".py",
   "mimetype": "text/x-python",
   "name": "python",
   "nbconvert_exporter": "python",
   "pygments_lexer": "ipython3",
   "version": "3.7.1"
  }
 },
 "nbformat": 4,
 "nbformat_minor": 2
}
